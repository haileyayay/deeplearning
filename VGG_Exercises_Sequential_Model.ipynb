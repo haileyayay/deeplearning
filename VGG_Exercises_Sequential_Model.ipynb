{
  "nbformat": 4,
  "nbformat_minor": 0,
  "metadata": {
    "colab": {
      "name": "VGG_Exercises_박의리.ipynb",
      "provenance": [],
      "collapsed_sections": [],
      "include_colab_link": true
    },
    "kernelspec": {
      "name": "python3",
      "display_name": "Python 3"
    }
  },
  "cells": [
    {
      "cell_type": "markdown",
      "metadata": {
        "id": "view-in-github",
        "colab_type": "text"
      },
      "source": [
        "<a href=\"https://colab.research.google.com/github/haileyayay/deeplearning/blob/master/VGG_Exercises_Sequential_Model.ipynb\" target=\"_parent\"><img src=\"https://colab.research.google.com/assets/colab-badge.svg\" alt=\"Open In Colab\"/></a>"
      ]
    },
    {
      "cell_type": "markdown",
      "metadata": {
        "id": "qFD7a3MmQvWF"
      },
      "source": [
        "# Deep Learning REVIEW !\r\n",
        "\r\n",
        "## CIFAR-10\r\n",
        "\r\n",
        "### Your name :\r\n",
        "\r\n",
        "#### 실습목표<br>\r\n",
        "1. CNN의 기본 아이디어를 안다.\r\n",
        "2. CNN의 구조를 그리고, 코드로 옮길 수 있다."
      ]
    },
    {
      "cell_type": "markdown",
      "metadata": {
        "id": "mjdN6-QqRGso"
      },
      "source": [
        "# 라이브러리 & 데이터 준비 "
      ]
    },
    {
      "cell_type": "code",
      "metadata": {
        "id": "Bs7YlaPDRNZs"
      },
      "source": [
        "import numpy as np\r\n",
        "import pandas as pd\r\n",
        "import random as rd\r\n",
        "\r\n",
        "import tensorflow as tf\r\n",
        "from tensorflow import keras\r\n",
        "\r\n",
        "import matplotlib.pyplot as plt"
      ],
      "execution_count": 1,
      "outputs": []
    },
    {
      "cell_type": "code",
      "metadata": {
        "id": "F088J-xORKnL",
        "colab": {
          "base_uri": "https://localhost:8080/"
        },
        "outputId": "ac532291-6062-4a75-b3ea-19b4faaa9791"
      },
      "source": [
        "(x_train, y_train), (x_test, y_test) = tf.keras.datasets.cifar10.load_data()"
      ],
      "execution_count": 2,
      "outputs": [
        {
          "output_type": "stream",
          "text": [
            "Downloading data from https://www.cs.toronto.edu/~kriz/cifar-10-python.tar.gz\n",
            "170500096/170498071 [==============================] - 8s 0us/step\n"
          ],
          "name": "stdout"
        }
      ]
    },
    {
      "cell_type": "code",
      "metadata": {
        "id": "v9KXnFll6wye"
      },
      "source": [
        ""
      ],
      "execution_count": null,
      "outputs": []
    },
    {
      "cell_type": "code",
      "metadata": {
        "id": "oqK5MYIOBW5S"
      },
      "source": [
        ""
      ],
      "execution_count": null,
      "outputs": []
    },
    {
      "cell_type": "code",
      "metadata": {
        "colab": {
          "base_uri": "https://localhost:8080/"
        },
        "id": "8tGbPObpvWrt",
        "outputId": "82450947-ac6b-46c3-c4cb-11d171d70670"
      },
      "source": [
        "\r\n",
        "\r\n",
        "X = tf.keras.layers.Input(shape=[32, 32, 3])\r\n",
        "\r\n",
        "H = tf.keras.layers.Conv2D(64, kernel_size=3, padding='same', activation='swish')(X)\r\n",
        "H = tf.keras.layers.Conv2D(64, kernel_size=3, padding='same', activation='swish')(X)\r\n",
        "H = tf.keras.layers.MaxPool2D()(H)\r\n",
        "\r\n",
        "H = tf.keras.layers.Conv2D(128, kernel_size=3, padding='same', activation='swish')(H)\r\n",
        "H = tf.keras.layers.Conv2D(128, kernel_size=3, padding='same',activation='swish')(H)\r\n",
        "H = tf.keras.layers.MaxPool2D()(H)\r\n",
        "\r\n",
        "H = tf.keras.layers.Conv2D(256, kernel_size=3, padding='same',activation='swish')(H)\r\n",
        "H = tf.keras.layers.Conv2D(256, kernel_size=3, padding='same',activation='swish')(H)\r\n",
        "H = tf.keras.layers.MaxPool2D()(H)\r\n",
        "\r\n",
        "H = tf.keras.layers.Flatten()(H)\r\n",
        "H = tf.keras.layers.Dense(4096, activation='swish')(H)\r\n",
        "Y = tf.keras.layers.Dense(10, activation='softmax')(H)\r\n",
        "\r\n",
        "model = tf.keras.Model(X,Y)\r\n",
        "model.summary()\r\n",
        "model.compile(loss='categorical_crossentropy',optimizer= 'adam', metrics='accuracy')"
      ],
      "execution_count": 19,
      "outputs": [
        {
          "output_type": "stream",
          "text": [
            "Model: \"model_3\"\n",
            "_________________________________________________________________\n",
            "Layer (type)                 Output Shape              Param #   \n",
            "=================================================================\n",
            "input_4 (InputLayer)         [(None, 32, 32, 3)]       0         \n",
            "_________________________________________________________________\n",
            "conv2d_37 (Conv2D)           (None, 32, 32, 64)        1792      \n",
            "_________________________________________________________________\n",
            "max_pooling2d_18 (MaxPooling (None, 16, 16, 64)        0         \n",
            "_________________________________________________________________\n",
            "conv2d_38 (Conv2D)           (None, 16, 16, 128)       73856     \n",
            "_________________________________________________________________\n",
            "conv2d_39 (Conv2D)           (None, 16, 16, 128)       147584    \n",
            "_________________________________________________________________\n",
            "max_pooling2d_19 (MaxPooling (None, 8, 8, 128)         0         \n",
            "_________________________________________________________________\n",
            "conv2d_40 (Conv2D)           (None, 8, 8, 256)         295168    \n",
            "_________________________________________________________________\n",
            "conv2d_41 (Conv2D)           (None, 8, 8, 256)         590080    \n",
            "_________________________________________________________________\n",
            "max_pooling2d_20 (MaxPooling (None, 4, 4, 256)         0         \n",
            "_________________________________________________________________\n",
            "flatten_6 (Flatten)          (None, 4096)              0         \n",
            "_________________________________________________________________\n",
            "dense_12 (Dense)             (None, 4096)              16781312  \n",
            "_________________________________________________________________\n",
            "dense_13 (Dense)             (None, 10)                40970     \n",
            "=================================================================\n",
            "Total params: 17,930,762\n",
            "Trainable params: 17,930,762\n",
            "Non-trainable params: 0\n",
            "_________________________________________________________________\n"
          ],
          "name": "stdout"
        }
      ]
    },
    {
      "cell_type": "code",
      "metadata": {
        "colab": {
          "base_uri": "https://localhost:8080/"
        },
        "id": "rVD9lQbL7FXq",
        "outputId": "0a189369-2ed7-41f8-ea0b-4d99d4886b84"
      },
      "source": [
        "## 강사님 코드 \r\n",
        "## model.add 구조\r\n",
        "\r\n",
        "\r\n",
        "from tensorflow.keras.layers import Conv2D, MaxPool2D, Flatten, Dense\r\n",
        "\r\n",
        "model = keras.models.Sequential(  )\r\n",
        "\r\n",
        " # First Convolutional Block\r\n",
        "model.add( Conv2D(filters=64, kernel_size=(3,3), strides=(1,1), padding='same',\r\n",
        "                  activation='relu', input_shape = (32, 32, 3) )    )\r\n",
        "model.add( Conv2D(64, (3,3), padding='same', activation='relu') )\r\n",
        "model.add( MaxPool2D((2,2)))\r\n",
        "\r\n",
        " # Second Convolutional Block\r\n",
        "model.add( Conv2D(128, (3,3), padding='same', activation='relu') )\r\n",
        "model.add( Conv2D(128, (3,3), padding='same', activation='relu') )\r\n",
        "model.add( MaxPool2D((2,2)))\r\n",
        "\r\n",
        "# Third Convolutional Block\r\n",
        "model.add( Conv2D(256, (3,3), padding='same', activation='relu') )\r\n",
        "model.add( Conv2D(256, (3,3), padding='same', activation='relu') )\r\n",
        "model.add( MaxPool2D((2,2)))\r\n",
        "\r\n",
        "\r\n",
        "model.add(Flatten())\r\n",
        "model.add(Dense(4096, activation='relu'))\r\n",
        "model.add(Dense(10, activation = 'softmax'))\r\n",
        "\r\n",
        "model.compile(loss = 'categorical_crossentropy',\r\n",
        "              optimizer = tf.keras.optimizers.Adam(),\r\n",
        "              metrics = ['accuracy'])\r\n",
        "\r\n",
        "model.summary()"
      ],
      "execution_count": 16,
      "outputs": [
        {
          "output_type": "stream",
          "text": [
            "Model: \"sequential_2\"\n",
            "_________________________________________________________________\n",
            "Layer (type)                 Output Shape              Param #   \n",
            "=================================================================\n",
            "conv2d_18 (Conv2D)           (None, 32, 32, 64)        1792      \n",
            "_________________________________________________________________\n",
            "conv2d_19 (Conv2D)           (None, 32, 32, 64)        36928     \n",
            "_________________________________________________________________\n",
            "max_pooling2d_9 (MaxPooling2 (None, 16, 16, 64)        0         \n",
            "_________________________________________________________________\n",
            "conv2d_20 (Conv2D)           (None, 16, 16, 128)       73856     \n",
            "_________________________________________________________________\n",
            "conv2d_21 (Conv2D)           (None, 16, 16, 128)       147584    \n",
            "_________________________________________________________________\n",
            "max_pooling2d_10 (MaxPooling (None, 8, 8, 128)         0         \n",
            "_________________________________________________________________\n",
            "conv2d_22 (Conv2D)           (None, 8, 8, 256)         295168    \n",
            "_________________________________________________________________\n",
            "conv2d_23 (Conv2D)           (None, 8, 8, 256)         590080    \n",
            "_________________________________________________________________\n",
            "max_pooling2d_11 (MaxPooling (None, 4, 4, 256)         0         \n",
            "_________________________________________________________________\n",
            "flatten_3 (Flatten)          (None, 4096)              0         \n",
            "_________________________________________________________________\n",
            "dense_6 (Dense)              (None, 4096)              16781312  \n",
            "_________________________________________________________________\n",
            "dense_7 (Dense)              (None, 10)                40970     \n",
            "=================================================================\n",
            "Total params: 17,967,690\n",
            "Trainable params: 17,967,690\n",
            "Non-trainable params: 0\n",
            "_________________________________________________________________\n"
          ],
          "name": "stdout"
        }
      ]
    },
    {
      "cell_type": "code",
      "metadata": {
        "colab": {
          "base_uri": "https://localhost:8080/"
        },
        "id": "iUV-Lh5Y7V_v",
        "outputId": "3ede6635-3684-4196-f94b-7a80683aba01"
      },
      "source": [
        "##Sequential 모델 - model add와 같은 params\r\n",
        "\r\n",
        "from tensorflow import keras\r\n",
        "from tensorflow.keras import layers\r\n",
        "\r\n",
        "model = keras.Sequential([\r\n",
        "    layers.Conv2D(filters=64, kernel_size=3, activation='relu',\r\n",
        "                  padding='same', input_shape=[32,32,3]),    \r\n",
        "    layers.Conv2D(filters=64, kernel_size=3, activation='relu',\r\n",
        "                  padding='same'),\r\n",
        "    layers.MaxPool2D(pool_size=(2,2)),\r\n",
        "\r\n",
        "    # Second Convolutional Block\r\n",
        "    layers.Conv2D(filters=128, kernel_size=3, activation='relu',\r\n",
        "                  padding='same'),    \r\n",
        "    layers.Conv2D(filters=128, kernel_size=3, activation='relu',\r\n",
        "                  padding='same'),\r\n",
        "    layers.MaxPool2D(pool_size=(2,2)),\r\n",
        "    \r\n",
        "    \r\n",
        "    # Third Convolutional Block\r\n",
        "    layers.Conv2D(filters=256, kernel_size=3, activation='relu',\r\n",
        "                  padding='same'),    \r\n",
        "    layers.Conv2D(filters=256, kernel_size=3, activation='relu',\r\n",
        "                  padding='same'),\r\n",
        "    layers.MaxPool2D(pool_size=(2,2)),    \r\n",
        "\r\n",
        "\r\n",
        "    layers.Flatten(), #1차원으로 바뀐다\r\n",
        "    layers.Dense(units=4096, activation='relu'),\r\n",
        "    layers.Dense(units=10, activation='sigmoid')\r\n",
        "    \r\n",
        "])\r\n",
        "\r\n",
        "model.summary()"
      ],
      "execution_count": 17,
      "outputs": [
        {
          "output_type": "stream",
          "text": [
            "Model: \"sequential_3\"\n",
            "_________________________________________________________________\n",
            "Layer (type)                 Output Shape              Param #   \n",
            "=================================================================\n",
            "conv2d_24 (Conv2D)           (None, 32, 32, 64)        1792      \n",
            "_________________________________________________________________\n",
            "conv2d_25 (Conv2D)           (None, 32, 32, 64)        36928     \n",
            "_________________________________________________________________\n",
            "max_pooling2d_12 (MaxPooling (None, 16, 16, 64)        0         \n",
            "_________________________________________________________________\n",
            "conv2d_26 (Conv2D)           (None, 16, 16, 128)       73856     \n",
            "_________________________________________________________________\n",
            "conv2d_27 (Conv2D)           (None, 16, 16, 128)       147584    \n",
            "_________________________________________________________________\n",
            "max_pooling2d_13 (MaxPooling (None, 8, 8, 128)         0         \n",
            "_________________________________________________________________\n",
            "conv2d_28 (Conv2D)           (None, 8, 8, 256)         295168    \n",
            "_________________________________________________________________\n",
            "conv2d_29 (Conv2D)           (None, 8, 8, 256)         590080    \n",
            "_________________________________________________________________\n",
            "max_pooling2d_14 (MaxPooling (None, 4, 4, 256)         0         \n",
            "_________________________________________________________________\n",
            "flatten_4 (Flatten)          (None, 4096)              0         \n",
            "_________________________________________________________________\n",
            "dense_8 (Dense)              (None, 4096)              16781312  \n",
            "_________________________________________________________________\n",
            "dense_9 (Dense)              (None, 10)                40970     \n",
            "=================================================================\n",
            "Total params: 17,967,690\n",
            "Trainable params: 17,967,690\n",
            "Non-trainable params: 0\n",
            "_________________________________________________________________\n"
          ],
          "name": "stdout"
        }
      ]
    },
    {
      "cell_type": "code",
      "metadata": {
        "id": "yuQuLtRoRWWJ",
        "colab": {
          "base_uri": "https://localhost:8080/"
        },
        "outputId": "0119e3f2-02a2-4073-e92e-bde8e1ee052e"
      },
      "source": [
        "labels = { 0 : 'Airplane',\r\n",
        "          1 : 'Automobile',\r\n",
        "          2 : 'Bird',\r\n",
        "          3 : 'Cat',\r\n",
        "          4 : 'Deer',\r\n",
        "          5 : 'Dog',\r\n",
        "          6 : 'Frog',\r\n",
        "          7 : 'Horse',\r\n",
        "          8 : 'Ship',\r\n",
        "          9 : 'Truck' }\r\n",
        "\r\n",
        "print(labels)"
      ],
      "execution_count": 3,
      "outputs": [
        {
          "output_type": "stream",
          "text": [
            "{0: 'Airplane', 1: 'Automobile', 2: 'Bird', 3: 'Cat', 4: 'Deer', 5: 'Dog', 6: 'Frog', 7: 'Horse', 8: 'Ship', 9: 'Truck'}\n"
          ],
          "name": "stdout"
        }
      ]
    },
    {
      "cell_type": "code",
      "metadata": {
        "id": "W7qyeLTKRaXc",
        "colab": {
          "base_uri": "https://localhost:8080/",
          "height": 302
        },
        "outputId": "445e650a-e5d5-4f28-d3e2-0decabc05194"
      },
      "source": [
        "'''\r\n",
        "Ctrl+Enter를 이용하여\r\n",
        "반복 실행 해보자!\r\n",
        "'''\r\n",
        "\r\n",
        "id = rd.randrange(0,10000)\r\n",
        "\r\n",
        "print('id = {}'.format(id))\r\n",
        "print('다음 그림은 {} 입니다.'.format( labels[y_test[id][0]] ))\r\n",
        "plt.imshow(x_test[id])\r\n",
        "plt.show()"
      ],
      "execution_count": 7,
      "outputs": [
        {
          "output_type": "stream",
          "text": [
            "id = 2065\n",
            "다음 그림은 Bird 입니다.\n"
          ],
          "name": "stdout"
        },
        {
          "output_type": "display_data",
          "data": {
            "image/png": "[encoded data removed]",
            "text/plain": [
              "<Figure size 432x288 with 1 Axes>"
            ]
          },
          "metadata": {
            "tags": [],
            "needs_background": "light"
          }
        }
      ]
    },
    {
      "cell_type": "markdown",
      "metadata": {
        "id": "GfG9KTe2uixF"
      },
      "source": [
        ""
      ]
    },
    {
      "cell_type": "markdown",
      "metadata": {
        "id": "fUF-SwxPRiW3"
      },
      "source": [
        "# X : Min-max Scaling!\r\n",
        "\r\n",
        "**Hint**\r\n",
        "\r\n",
        "$X_{scaled} \\leftarrow { X - min(X) \\over{max(X)  -  min(X)}  }$"
      ]
    },
    {
      "cell_type": "code",
      "metadata": {
        "id": "L_yK_f9NR7oT"
      },
      "source": [
        "min_ = x_train.min()\r\n",
        "max_ = x_train.max()\r\n",
        "\r\n",
        "def scaler(x):\r\n",
        "    boonja = x - min_\r\n",
        "    boonmo = max_ - min_\r\n",
        "    return boonja/boonmo"
      ],
      "execution_count": null,
      "outputs": []
    },
    {
      "cell_type": "code",
      "metadata": {
        "id": "UkWjogrUSFgw"
      },
      "source": [
        "x_train = scaler(x_train)\r\n",
        "x_test = scaler(x_test)"
      ],
      "execution_count": null,
      "outputs": []
    },
    {
      "cell_type": "markdown",
      "metadata": {
        "id": "oZIbxjvTSIAs"
      },
      "source": [
        "# Y : One-Hot Encoding"
      ]
    },
    {
      "cell_type": "code",
      "metadata": {
        "id": "lzE-eaJ_SLRd"
      },
      "source": [
        "from tensorflow.keras.utils import to_categorical"
      ],
      "execution_count": null,
      "outputs": []
    },
    {
      "cell_type": "code",
      "metadata": {
        "id": "a_StmkRwSNL9"
      },
      "source": [
        "y_train = to_categorical(y_train, 10)\r\n",
        "y_test = to_categorical(y_test, 10)"
      ],
      "execution_count": null,
      "outputs": []
    },
    {
      "cell_type": "markdown",
      "metadata": {
        "id": "PVkcOoW7SRAN"
      },
      "source": [
        "# X, Y 모양 확인"
      ]
    },
    {
      "cell_type": "code",
      "metadata": {
        "id": "5qfS7d_6SStI"
      },
      "source": [
        "x_train.shape, x_test.shape, y_train.shape, y_test.shape"
      ],
      "execution_count": null,
      "outputs": []
    },
    {
      "cell_type": "markdown",
      "metadata": {
        "id": "DoPYeBd9SWTA"
      },
      "source": [
        "# VGG(mini-ver) 모델링!\r\n",
        "\r\n",
        "* [참고해야하는 논문](https://arxiv.org/pdf/1409.1556.pdf)\r\n",
        "* **미니버전 제작!**\r\n",
        "* 컴파일까지!\r\n",
        "* model 에 모델을 선언할 것"
      ]
    },
    {
      "cell_type": "code",
      "metadata": {
        "id": "cseavzeHSaWJ"
      },
      "source": [
        ""
      ],
      "execution_count": null,
      "outputs": []
    },
    {
      "cell_type": "markdown",
      "metadata": {
        "id": "bhql-VzSScu9"
      },
      "source": [
        "# 학습!\r\n",
        "* 적절한 batch size!\r\n",
        "* epochs는 20번만."
      ]
    },
    {
      "cell_type": "code",
      "metadata": {
        "id": "nfQ1EU88Svn-"
      },
      "source": [
        ""
      ],
      "execution_count": null,
      "outputs": []
    },
    {
      "cell_type": "code",
      "metadata": {
        "id": "E5aP_E-3SvtF"
      },
      "source": [
        ""
      ],
      "execution_count": null,
      "outputs": []
    },
    {
      "cell_type": "markdown",
      "metadata": {
        "id": "nizsn1RzS1WL"
      },
      "source": [
        "# 결과 확인 작업"
      ]
    },
    {
      "cell_type": "code",
      "metadata": {
        "id": "zzYcizLRS4EH"
      },
      "source": [
        "## 원핫인코딩 해제\r\n",
        "y_train = y_train.argmax(axis=1)\r\n",
        "y_test = y_test.argmax(axis=1)"
      ],
      "execution_count": null,
      "outputs": []
    },
    {
      "cell_type": "code",
      "metadata": {
        "id": "jDuAvBOZS2l6"
      },
      "source": [
        "from sklearn.metrics import accuracy_score\r\n",
        "pred_train = model.predict(x_train).argmax(axis=1)\r\n",
        "pred_test = model.predict(x_test).argmax(axis=1)\r\n",
        "\r\n",
        "logi_train_accuracy = accuracy_score(y_train, single_pred_train)\r\n",
        "logi_test_accuracy = accuracy_score(y_test, single_pred_test)\r\n",
        "\r\n",
        "\r\n",
        "print('CNN')\r\n",
        "print('트레이닝 정확도 : {:.2f}%'.format(logi_train_accuracy*100))\r\n",
        "print('테스트 정확도 : {:.2f}%'.format(logi_test_accuracy*100))"
      ],
      "execution_count": null,
      "outputs": []
    },
    {
      "cell_type": "code",
      "metadata": {
        "id": "uoc0SGE6WkN9"
      },
      "source": [
        "'''\r\n",
        "성능 확인을 위해\r\n",
        "Ctrl+Enter를 이용하여\r\n",
        "반복 실행 해보자!\r\n",
        "'''\r\n",
        "\r\n",
        "id = rd.randrange(0,10000)\r\n",
        "\r\n",
        "print('id = {}'.format(id))\r\n",
        "print('다음 그림은 {} 입니다.'.format(labels[y_test[id]]))\r\n",
        "print('모델의 예측 : {}'.format(labels[pred_test[id]]))\r\n",
        "\r\n",
        "prob = np.floor(pred_test[id]*100).tolist()\r\n",
        "prob_dict = {}\r\n",
        "\r\n",
        "for idx, prob in enumerate(prob) :\r\n",
        "    prob_dict[ labels[idx] ] = prob\r\n",
        "\r\n",
        "print('모델의 카테고리별 확률 : ')\r\n",
        "print(prob_dict)\r\n",
        "\r\n",
        "if y_test[id] == pred_test[id] :\r\n",
        "    print('정답입니다')\r\n",
        "else : \r\n",
        "    print('틀렸어요')\r\n",
        "plt.imshow(x_test[id].reshape([32,32,-1]))\r\n",
        "plt.show()"
      ],
      "execution_count": null,
      "outputs": []
    },
    {
      "cell_type": "code",
      "metadata": {
        "id": "U1jclOpjWqsK"
      },
      "source": [
        "'''\r\n",
        "틀린 것만 관찰해보자!\r\n",
        "\r\n",
        "Ctrl+Enter를 이용하여\r\n",
        "반복 실행 해보자!\r\n",
        "'''\r\n",
        "\r\n",
        "true_false = (y_test == pred_test)\r\n",
        "f_id = np.where(true_false == False)[0]\r\n",
        "f_n = len(f_id)\r\n",
        "\r\n",
        "id = f_id[rd.randrange(0,f_n)]\r\n",
        "\r\n",
        "\r\n",
        "print('id = {}'.format(id))\r\n",
        "print('다음 그림은 {} 입니다.'.format(labels[y_test[id]]))\r\n",
        "print('모델의 예측 : {}'.format(labels[pred_test[id]]))\r\n",
        "\r\n",
        "prob = np.floor(pred_test[id]*100).tolist()\r\n",
        "prob_dict = {}\r\n",
        "\r\n",
        "for idx, prob in enumerate(prob) :\r\n",
        "    prob_dict[ labels[idx] ] = prob\r\n",
        "\r\n",
        "print('모델의 카테고리별 확률 : ')\r\n",
        "print(prob_dict)\r\n",
        "\r\n",
        "if y_test[id] == pred_test[id] :\r\n",
        "    print('정답입니다')\r\n",
        "else : \r\n",
        "    print('틀렸어요')\r\n",
        "plt.imshow(x_test[id].reshape([32,32,-1]))\r\n",
        "plt.show()"
      ],
      "execution_count": null,
      "outputs": []
    }
  ]
}